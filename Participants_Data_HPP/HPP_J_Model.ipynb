{
 "cells": [
  {
   "cell_type": "code",
   "execution_count": 1,
   "metadata": {},
   "outputs": [],
   "source": [
    "import numpy as np\n",
    "import pandas as pd\n",
    "from sklearn.linear_model import LinearRegression\n",
    "from sklearn.metrics import mean_squared_log_error\n",
    "from sklearn.model_selection import cross_val_score\n",
    "from sklearn.linear_model import Lasso, Ridge, ElasticNet\n",
    "from sklearn.ensemble import RandomForestRegressor"
   ]
  },
  {
   "cell_type": "code",
   "execution_count": 2,
   "metadata": {},
   "outputs": [],
   "source": [
    "import joblib\n",
    "import pickle"
   ]
  },
  {
   "cell_type": "code",
   "execution_count": 3,
   "metadata": {},
   "outputs": [],
   "source": [
    "train = pd.read_csv('train_housing_price_preprocessed.csv')\n",
    "test = pd.read_csv('test_housing_price_preprocessed.csv')"
   ]
  },
  {
   "cell_type": "code",
   "execution_count": 4,
   "metadata": {},
   "outputs": [
    {
     "data": {
      "text/plain": [
       "Index(['POSTED_BY_Builder', 'POSTED_BY_Dealer', 'POSTED_BY_Owner', 'RERA',\n",
       "       'BHK_NO.', 'SQUARE_FT', 'READY_TO_MOVE', 'LONGITUDE', 'LATITUDE',\n",
       "       'TARGET(PRICE_IN_LACS)', 'BHK_RK', 'CITY', 'LOCALITY'],\n",
       "      dtype='object')"
      ]
     },
     "execution_count": 4,
     "metadata": {},
     "output_type": "execute_result"
    }
   ],
   "source": [
    "train.columns"
   ]
  },
  {
   "cell_type": "code",
   "execution_count": 5,
   "metadata": {},
   "outputs": [],
   "source": [
    "#train_x = train.drop(columns=['TARGET(PRICE_IN_LACS)'])\n",
    "train_x = train.drop(columns=['TARGET(PRICE_IN_LACS)','CITY','LOCALITY'])"
   ]
  },
  {
   "cell_type": "code",
   "execution_count": 6,
   "metadata": {},
   "outputs": [],
   "source": [
    "train_y = train[\"TARGET(PRICE_IN_LACS)\"]"
   ]
  },
  {
   "cell_type": "code",
   "execution_count": 7,
   "metadata": {},
   "outputs": [],
   "source": [
    "#test_x = test.drop(columns=[\"TARGET(PRICE_IN_LACS)\"])\n",
    "test_x = test.drop(columns=[\"TARGET(PRICE_IN_LACS)\",'CITY','LOCALITY'])"
   ]
  },
  {
   "cell_type": "code",
   "execution_count": 8,
   "metadata": {},
   "outputs": [
    {
     "name": "stdout",
     "output_type": "stream",
     "text": [
      "<class 'pandas.core.frame.DataFrame'>\n",
      "RangeIndex: 29016 entries, 0 to 29015\n",
      "Data columns (total 13 columns):\n",
      " #   Column                 Non-Null Count  Dtype  \n",
      "---  ------                 --------------  -----  \n",
      " 0   POSTED_BY_Builder      29016 non-null  int64  \n",
      " 1   POSTED_BY_Dealer       29016 non-null  int64  \n",
      " 2   POSTED_BY_Owner        29016 non-null  int64  \n",
      " 3   RERA                   29016 non-null  int64  \n",
      " 4   BHK_NO.                29016 non-null  int64  \n",
      " 5   SQUARE_FT              29016 non-null  float64\n",
      " 6   READY_TO_MOVE          29016 non-null  int64  \n",
      " 7   LONGITUDE              29016 non-null  float64\n",
      " 8   LATITUDE               29016 non-null  float64\n",
      " 9   TARGET(PRICE_IN_LACS)  29016 non-null  float64\n",
      " 10  BHK_RK                 29016 non-null  int64  \n",
      " 11  CITY                   29016 non-null  object \n",
      " 12  LOCALITY               29005 non-null  object \n",
      "dtypes: float64(4), int64(7), object(2)\n",
      "memory usage: 2.9+ MB\n"
     ]
    }
   ],
   "source": [
    "train.info()"
   ]
  },
  {
   "cell_type": "code",
   "execution_count": 8,
   "metadata": {},
   "outputs": [
    {
     "data": {
      "text/plain": [
       "LinearRegression(copy_X=True, fit_intercept=True, n_jobs=None, normalize=False)"
      ]
     },
     "execution_count": 8,
     "metadata": {},
     "output_type": "execute_result"
    }
   ],
   "source": [
    "model=LinearRegression()\n",
    "model.fit(train_x,train_y)"
   ]
  },
  {
   "cell_type": "code",
   "execution_count": 9,
   "metadata": {},
   "outputs": [],
   "source": [
    "pred_train=model.predict(train_x)\n",
    "pred_test=model.predict(test_x)"
   ]
  },
  {
   "cell_type": "code",
   "execution_count": 10,
   "metadata": {},
   "outputs": [],
   "source": [
    "pred_train = abs(pred_train)\n",
    "pred_test = abs(pred_test)"
   ]
  },
  {
   "cell_type": "code",
   "execution_count": 11,
   "metadata": {},
   "outputs": [
    {
     "name": "stdout",
     "output_type": "stream",
     "text": [
      "RMSLE of train 0.8791911052889367\n"
     ]
    }
   ],
   "source": [
    "RMSLE = np.sqrt(mean_squared_log_error(train_y,pred_train))\n",
    "print('RMSLE of train',RMSLE)"
   ]
  },
  {
   "cell_type": "code",
   "execution_count": 12,
   "metadata": {},
   "outputs": [
    {
     "data": {
      "text/html": [
       "<div>\n",
       "<style scoped>\n",
       "    .dataframe tbody tr th:only-of-type {\n",
       "        vertical-align: middle;\n",
       "    }\n",
       "\n",
       "    .dataframe tbody tr th {\n",
       "        vertical-align: top;\n",
       "    }\n",
       "\n",
       "    .dataframe thead th {\n",
       "        text-align: right;\n",
       "    }\n",
       "</style>\n",
       "<table border=\"1\" class=\"dataframe\">\n",
       "  <thead>\n",
       "    <tr style=\"text-align: right;\">\n",
       "      <th></th>\n",
       "      <th>POSTED_BY_Builder</th>\n",
       "      <th>POSTED_BY_Dealer</th>\n",
       "      <th>POSTED_BY_Owner</th>\n",
       "      <th>RERA</th>\n",
       "      <th>BHK_NO.</th>\n",
       "      <th>SQUARE_FT</th>\n",
       "      <th>READY_TO_MOVE</th>\n",
       "      <th>LONGITUDE</th>\n",
       "      <th>LATITUDE</th>\n",
       "      <th>BHK_RK</th>\n",
       "    </tr>\n",
       "  </thead>\n",
       "  <tbody>\n",
       "    <tr>\n",
       "      <th>POSTED_BY_Builder</th>\n",
       "      <td>1.000000</td>\n",
       "      <td>-0.180755</td>\n",
       "      <td>-0.107298</td>\n",
       "      <td>0.121520</td>\n",
       "      <td>-0.021260</td>\n",
       "      <td>0.001470</td>\n",
       "      <td>-0.187319</td>\n",
       "      <td>-0.026272</td>\n",
       "      <td>3.392203e-03</td>\n",
       "      <td>-3.539902e-02</td>\n",
       "    </tr>\n",
       "    <tr>\n",
       "      <th>POSTED_BY_Dealer</th>\n",
       "      <td>-0.180755</td>\n",
       "      <td>1.000000</td>\n",
       "      <td>-0.958455</td>\n",
       "      <td>0.235704</td>\n",
       "      <td>0.108367</td>\n",
       "      <td>-0.006169</td>\n",
       "      <td>-0.174763</td>\n",
       "      <td>0.067546</td>\n",
       "      <td>-3.750127e-02</td>\n",
       "      <td>-1.049967e-02</td>\n",
       "    </tr>\n",
       "    <tr>\n",
       "      <th>POSTED_BY_Owner</th>\n",
       "      <td>-0.107298</td>\n",
       "      <td>-0.958455</td>\n",
       "      <td>1.000000</td>\n",
       "      <td>-0.273511</td>\n",
       "      <td>-0.103380</td>\n",
       "      <td>0.005809</td>\n",
       "      <td>0.230990</td>\n",
       "      <td>-0.060662</td>\n",
       "      <td>3.692540e-02</td>\n",
       "      <td>2.088032e-02</td>\n",
       "    </tr>\n",
       "    <tr>\n",
       "      <th>RERA</th>\n",
       "      <td>0.121520</td>\n",
       "      <td>0.235704</td>\n",
       "      <td>-0.273511</td>\n",
       "      <td>1.000000</td>\n",
       "      <td>0.009514</td>\n",
       "      <td>-0.001614</td>\n",
       "      <td>-0.363535</td>\n",
       "      <td>0.103211</td>\n",
       "      <td>-7.180131e-02</td>\n",
       "      <td>-5.000248e-03</td>\n",
       "    </tr>\n",
       "    <tr>\n",
       "      <th>BHK_NO.</th>\n",
       "      <td>-0.021260</td>\n",
       "      <td>0.108367</td>\n",
       "      <td>-0.103380</td>\n",
       "      <td>0.009514</td>\n",
       "      <td>1.000000</td>\n",
       "      <td>0.005038</td>\n",
       "      <td>0.034652</td>\n",
       "      <td>0.069663</td>\n",
       "      <td>5.092082e-02</td>\n",
       "      <td>4.666666e-02</td>\n",
       "    </tr>\n",
       "    <tr>\n",
       "      <th>SQUARE_FT</th>\n",
       "      <td>0.001470</td>\n",
       "      <td>-0.006169</td>\n",
       "      <td>0.005809</td>\n",
       "      <td>-0.001614</td>\n",
       "      <td>0.005038</td>\n",
       "      <td>1.000000</td>\n",
       "      <td>-0.000070</td>\n",
       "      <td>-0.006316</td>\n",
       "      <td>2.956269e-04</td>\n",
       "      <td>4.154771e-04</td>\n",
       "    </tr>\n",
       "    <tr>\n",
       "      <th>READY_TO_MOVE</th>\n",
       "      <td>-0.187319</td>\n",
       "      <td>-0.174763</td>\n",
       "      <td>0.230990</td>\n",
       "      <td>-0.363535</td>\n",
       "      <td>0.034652</td>\n",
       "      <td>-0.000070</td>\n",
       "      <td>1.000000</td>\n",
       "      <td>-0.011269</td>\n",
       "      <td>-3.481664e-03</td>\n",
       "      <td>1.939750e-02</td>\n",
       "    </tr>\n",
       "    <tr>\n",
       "      <th>LONGITUDE</th>\n",
       "      <td>-0.026272</td>\n",
       "      <td>0.067546</td>\n",
       "      <td>-0.060662</td>\n",
       "      <td>0.103211</td>\n",
       "      <td>0.069663</td>\n",
       "      <td>-0.006316</td>\n",
       "      <td>-0.011269</td>\n",
       "      <td>1.000000</td>\n",
       "      <td>-1.430104e-01</td>\n",
       "      <td>-8.448559e-03</td>\n",
       "    </tr>\n",
       "    <tr>\n",
       "      <th>LATITUDE</th>\n",
       "      <td>0.003392</td>\n",
       "      <td>-0.037501</td>\n",
       "      <td>0.036925</td>\n",
       "      <td>-0.071801</td>\n",
       "      <td>0.050921</td>\n",
       "      <td>0.000296</td>\n",
       "      <td>-0.003482</td>\n",
       "      <td>-0.143010</td>\n",
       "      <td>1.000000e+00</td>\n",
       "      <td>-5.508794e-08</td>\n",
       "    </tr>\n",
       "    <tr>\n",
       "      <th>BHK_RK</th>\n",
       "      <td>-0.035399</td>\n",
       "      <td>-0.010500</td>\n",
       "      <td>0.020880</td>\n",
       "      <td>-0.005000</td>\n",
       "      <td>0.046667</td>\n",
       "      <td>0.000415</td>\n",
       "      <td>0.019398</td>\n",
       "      <td>-0.008449</td>\n",
       "      <td>-5.508794e-08</td>\n",
       "      <td>1.000000e+00</td>\n",
       "    </tr>\n",
       "  </tbody>\n",
       "</table>\n",
       "</div>"
      ],
      "text/plain": [
       "                   POSTED_BY_Builder  POSTED_BY_Dealer  POSTED_BY_Owner  \\\n",
       "POSTED_BY_Builder           1.000000         -0.180755        -0.107298   \n",
       "POSTED_BY_Dealer           -0.180755          1.000000        -0.958455   \n",
       "POSTED_BY_Owner            -0.107298         -0.958455         1.000000   \n",
       "RERA                        0.121520          0.235704        -0.273511   \n",
       "BHK_NO.                    -0.021260          0.108367        -0.103380   \n",
       "SQUARE_FT                   0.001470         -0.006169         0.005809   \n",
       "READY_TO_MOVE              -0.187319         -0.174763         0.230990   \n",
       "LONGITUDE                  -0.026272          0.067546        -0.060662   \n",
       "LATITUDE                    0.003392         -0.037501         0.036925   \n",
       "BHK_RK                     -0.035399         -0.010500         0.020880   \n",
       "\n",
       "                       RERA   BHK_NO.  SQUARE_FT  READY_TO_MOVE  LONGITUDE  \\\n",
       "POSTED_BY_Builder  0.121520 -0.021260   0.001470      -0.187319  -0.026272   \n",
       "POSTED_BY_Dealer   0.235704  0.108367  -0.006169      -0.174763   0.067546   \n",
       "POSTED_BY_Owner   -0.273511 -0.103380   0.005809       0.230990  -0.060662   \n",
       "RERA               1.000000  0.009514  -0.001614      -0.363535   0.103211   \n",
       "BHK_NO.            0.009514  1.000000   0.005038       0.034652   0.069663   \n",
       "SQUARE_FT         -0.001614  0.005038   1.000000      -0.000070  -0.006316   \n",
       "READY_TO_MOVE     -0.363535  0.034652  -0.000070       1.000000  -0.011269   \n",
       "LONGITUDE          0.103211  0.069663  -0.006316      -0.011269   1.000000   \n",
       "LATITUDE          -0.071801  0.050921   0.000296      -0.003482  -0.143010   \n",
       "BHK_RK            -0.005000  0.046667   0.000415       0.019398  -0.008449   \n",
       "\n",
       "                       LATITUDE        BHK_RK  \n",
       "POSTED_BY_Builder  3.392203e-03 -3.539902e-02  \n",
       "POSTED_BY_Dealer  -3.750127e-02 -1.049967e-02  \n",
       "POSTED_BY_Owner    3.692540e-02  2.088032e-02  \n",
       "RERA              -7.180131e-02 -5.000248e-03  \n",
       "BHK_NO.            5.092082e-02  4.666666e-02  \n",
       "SQUARE_FT          2.956269e-04  4.154771e-04  \n",
       "READY_TO_MOVE     -3.481664e-03  1.939750e-02  \n",
       "LONGITUDE         -1.430104e-01 -8.448559e-03  \n",
       "LATITUDE           1.000000e+00 -5.508794e-08  \n",
       "BHK_RK            -5.508794e-08  1.000000e+00  "
      ]
     },
     "execution_count": 12,
     "metadata": {},
     "output_type": "execute_result"
    }
   ],
   "source": [
    "test_x.corr()"
   ]
  },
  {
   "cell_type": "code",
   "execution_count": 13,
   "metadata": {},
   "outputs": [
    {
     "name": "stdout",
     "output_type": "stream",
     "text": [
      "RMSLE of train 0.7838177074377665\n"
     ]
    },
    {
     "data": {
      "image/png": "[encoded data removed]",
      "text/plain": [
       "<Figure size 432x288 with 1 Axes>"
      ]
     },
     "metadata": {
      "needs_background": "light"
     },
     "output_type": "display_data"
    }
   ],
   "source": [
    "model=Lasso(alpha=15)\n",
    "model.fit(train_x, train_y)\n",
    "pd.Series(model.coef_,index=test_x.columns).plot(kind = \"bar\")\n",
    "pred_train = model.predict(train_x)\n",
    "pred_test = model.predict(test_x)\n",
    "pred_train = abs(pred_train)\n",
    "RMSLE = np.sqrt(mean_squared_log_error(train_y,pred_train))\n",
    "print('RMSLE of train',RMSLE)"
   ]
  },
  {
   "cell_type": "code",
   "execution_count": 14,
   "metadata": {},
   "outputs": [],
   "source": [
    "def run_model(model, train_X, train_y, test_X,filename ):\n",
    "    model.fit(train_x, train_y)\n",
    "    pd.Series(model.coef_,index=test_x.columns).plot(kind = \"bar\")\n",
    "    pred_train = model.predict(train_x)\n",
    "    pred_test = model.predict(test_x)\n",
    "    pred_train = abs(pred_train)\n",
    "    RMSLE = np.sqrt(mean_squared_log_error(train_y,pred_train))\n",
    "    print('RMSLE of train',RMSLE)\n",
    "    score = cross_val_score(model, train_x, train_y, cv = 10, scoring = \"neg_mean_squared_log_error\" )\n",
    "    print(\"Cross validation Score  = \",np.sqrt(np.mean(np.abs(score))))\n",
    "   # sample[\"Item_Outlet_Sales\"] = pred_test\n",
    "   # sample.to_csv(filename, index = False)"
   ]
  },
  {
   "cell_type": "code",
   "execution_count": 9,
   "metadata": {},
   "outputs": [
    {
     "name": "stdout",
     "output_type": "stream",
     "text": [
      "RMSLE of train 0.7758049134649746\n"
     ]
    },
    {
     "data": {
      "image/png": "[encoded data removed]",
      "text/plain": [
       "<Figure size 432x288 with 1 Axes>"
      ]
     },
     "metadata": {
      "needs_background": "light"
     },
     "output_type": "display_data"
    }
   ],
   "source": [
    "model = ElasticNet(alpha=1, l1_ratio=0.55)\n",
    "model.fit(train_x, train_y)\n",
    "pd.Series(model.coef_,index=test_x.columns).plot(kind = \"bar\")\n",
    "pred_train = model.predict(train_x)\n",
    "pred_test = abs(model.predict(test_x))\n",
    "pred_train = abs(pred_train)\n",
    "RMSLE = np.sqrt(mean_squared_log_error(train_y,pred_train))\n",
    "print('RMSLE of train',RMSLE)\n",
    "#run_model(model, train_x, train_y, test_x, \"test_result_ElasticNet_regression.csv\" )\n",
    "pd.DataFrame(pred_test).to_csv(\"sample_submission.csv\",index=False, header=['TARGET(PRICE_IN_LACS)'])"
   ]
  },
  {
   "cell_type": "code",
   "execution_count": 19,
   "metadata": {},
   "outputs": [],
   "source": [
    "train = pd.read_csv('train_housing_price_preprocessed.csv')\n",
    "test = pd.read_csv('test_housing_price_preprocessed.csv')\n",
    "train_x = train.drop(columns=['TARGET(PRICE_IN_LACS)','CITY','LOCALITY'])\n",
    "train_y = train[\"TARGET(PRICE_IN_LACS)\"]\n",
    "test_x = test.drop(columns=[\"TARGET(PRICE_IN_LACS)\",'CITY','LOCALITY'])"
   ]
  },
  {
   "cell_type": "code",
   "execution_count": 22,
   "metadata": {},
   "outputs": [
    {
     "name": "stdout",
     "output_type": "stream",
     "text": [
      "RMSLE of train 0.17745011887112538\n"
     ]
    }
   ],
   "source": [
    "model = RandomForestRegressor(n_estimators=25,criterion='mse',random_state=1,n_jobs=1)\n",
    "model.fit(train_x, train_y)\n",
    "#pd.Series(model.coef_,index=test_x.columns).plot(kind = \"bar\")\n",
    "pred_train = model.predict(train_x)\n",
    "pred_test = model.predict(test_x)\n",
    "#pred_test = abs(pred_train)\n",
    "RMSLE = np.sqrt(mean_squared_log_error(train_y,pred_train))\n",
    "print('RMSLE of train',RMSLE)\n",
    "\n"
   ]
  },
  {
   "cell_type": "code",
   "execution_count": 21,
   "metadata": {},
   "outputs": [
    {
     "name": "stdout",
     "output_type": "stream",
     "text": [
      "Cross validation Score  =  0.3729522869105129\n"
     ]
    }
   ],
   "source": [
    "score = cross_val_score(model, train_x, train_y, cv = 10, scoring = \"neg_mean_squared_log_error\" )\n",
    "print(\"Cross validation Score  = \",np.sqrt(np.mean(np.abs(score))))"
   ]
  },
  {
   "cell_type": "code",
   "execution_count": 10,
   "metadata": {},
   "outputs": [
    {
     "data": {
      "text/plain": [
       "['model.pkl']"
      ]
     },
     "execution_count": 10,
     "metadata": {},
     "output_type": "execute_result"
    }
   ],
   "source": [
    "joblib.dump(model, 'model.pkl')"
   ]
  },
  {
   "cell_type": "code",
   "execution_count": null,
   "metadata": {},
   "outputs": [],
   "source": []
  }
 ],
 "metadata": {
  "kernelspec": {
   "display_name": "Python 3",
   "language": "python",
   "name": "python3"
  },
  "language_info": {
   "codemirror_mode": {
    "name": "ipython",
    "version": 3
   },
   "file_extension": ".py",
   "mimetype": "text/x-python",
   "name": "python",
   "nbconvert_exporter": "python",
   "pygments_lexer": "ipython3",
   "version": "3.7.6"
  }
 },
 "nbformat": 4,
 "nbformat_minor": 4
}
